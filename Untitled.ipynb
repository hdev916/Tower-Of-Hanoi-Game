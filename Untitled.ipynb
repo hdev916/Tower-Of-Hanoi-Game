{
 "cells": [
  {
   "cell_type": "code",
   "execution_count": 1,
   "id": "89b4a3eb",
   "metadata": {},
   "outputs": [
    {
     "name": "stdout",
     "output_type": "stream",
     "text": [
      "pygame 2.4.0 (SDL 2.26.4, Python 3.10.9)\n",
      "Hello from the pygame community. https://www.pygame.org/contribute.html\n"
     ]
    }
   ],
   "source": [
    "import pygame\n",
    "import random\n",
    "\n",
    "pygame.init()\n",
    "\n",
    "screen_width=600\n",
    "screen_height=400\n",
    "\n",
    "screen=pygame.display.set_mode((screen_width,screen_height))\n",
    "pygame.display.set_caption('collision')\n",
    "\n",
    "\n",
    "obstacles=[]\n",
    "for _ in range(16):\n",
    "    obstacle_rect=pygame.Rect(random.randint(0,500),random.randint(0,300),25,25)\n",
    "    obstacles.append(obstacle_rect)\n",
    "    \n",
    "line_start=(screen_width/2,screen_height/2)\n",
    "\n",
    "\n",
    "#define colours\n",
    "bg=(50,50,50)\n",
    "green=(0,255,0)\n",
    "red=(255,0,0)\n",
    "blue=(0,0,255)\n",
    "white=(255,255,255)\n",
    "\n",
    "#hide mouse curser\n",
    "#pygame.mouse.set_visible(False)\n",
    "\n",
    "run=True\n",
    "while run:\n",
    "    #Update background\n",
    "    screen.fill(bg)\n",
    "    \n",
    "    pos=pygame.mouse.get_pos()\n",
    "    pygame.draw.line(screen,white,line_start,pos,5)\n",
    "    #draw all rectangles\n",
    "    for obstacle in obstacles:\n",
    "        if obstacle.clipline((line_start,pos)):\n",
    "            pygame.draw.rect(screen,red,obstacle)\n",
    "            \n",
    "        else:\n",
    "            pygame.draw.rect(screen,green,obstacle)\n",
    "    \n",
    "    \n",
    "    \n",
    "    for event in pygame.event.get():\n",
    "        if event.type==pygame.QUIT:\n",
    "            run=False\n",
    "            \n",
    "    #update display\n",
    "    pygame.display.flip()\n",
    "    \n",
    "pygame.quit()\n",
    "            \n",
    "    \n",
    "\n",
    "\n"
   ]
  },
  {
   "cell_type": "code",
   "execution_count": null,
   "id": "90ebd622",
   "metadata": {},
   "outputs": [],
   "source": []
  }
 ],
 "metadata": {
  "kernelspec": {
   "display_name": "Python 3 (ipykernel)",
   "language": "python",
   "name": "python3"
  },
  "language_info": {
   "codemirror_mode": {
    "name": "ipython",
    "version": 3
   },
   "file_extension": ".py",
   "mimetype": "text/x-python",
   "name": "python",
   "nbconvert_exporter": "python",
   "pygments_lexer": "ipython3",
   "version": "3.10.9"
  }
 },
 "nbformat": 4,
 "nbformat_minor": 5
}
