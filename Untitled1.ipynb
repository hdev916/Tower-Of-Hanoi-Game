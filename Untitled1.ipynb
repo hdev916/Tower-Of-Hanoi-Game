{
 "cells": [
  {
   "cell_type": "code",
   "execution_count": 4,
   "id": "cf0b9b18",
   "metadata": {},
   "outputs": [
    {
     "ename": "TypeError",
     "evalue": "function missing required argument 'dest' (pos 2)",
     "output_type": "error",
     "traceback": [
      "\u001b[1;31m---------------------------------------------------------------------------\u001b[0m",
      "\u001b[1;31mTypeError\u001b[0m                                 Traceback (most recent call last)",
      "Cell \u001b[1;32mIn[4], line 26\u001b[0m\n\u001b[0;32m     23\u001b[0m quit_game()\n\u001b[0;32m     24\u001b[0m screen\u001b[38;5;241m.\u001b[39mfill((\u001b[38;5;241m255\u001b[39m,\u001b[38;5;241m255\u001b[39m,\u001b[38;5;241m255\u001b[39m))\n\u001b[1;32m---> 26\u001b[0m \u001b[43mscreen\u001b[49m\u001b[38;5;241;43m.\u001b[39;49m\u001b[43mblit\u001b[49m\u001b[43m(\u001b[49m\u001b[43mdino\u001b[49m\u001b[43m)\u001b[49m\n\u001b[0;32m     27\u001b[0m pygame\u001b[38;5;241m.\u001b[39mdraw\u001b[38;5;241m.\u001b[39mrect(screen,(\u001b[38;5;241m0\u001b[39m,\u001b[38;5;241m0\u001b[39m,\u001b[38;5;241m0\u001b[39m),obstacle,\u001b[38;5;241m4\u001b[39m)\n\u001b[0;32m     29\u001b[0m userinput\u001b[38;5;241m=\u001b[39mpygame\u001b[38;5;241m.\u001b[39mkey\u001b[38;5;241m.\u001b[39mget_pressed()\n",
      "\u001b[1;31mTypeError\u001b[0m: function missing required argument 'dest' (pos 2)"
     ]
    }
   ],
   "source": [
    "import pygame\n",
    "\n",
    "pygame.init()\n",
    "screen=pygame.display.set_mode((500,500))\n",
    "vel=10\n",
    "\n",
    "obstacle=pygame.Rect(400,200,80,80)\n",
    "\n",
    "dino=pygame.image.load('dino.png')\n",
    "width=dino.get_width()\n",
    "height=dino.get_height()\n",
    "dino=pygame.transform.scale(dino,(int(width*0.05),int(height*0.05)))\n",
    "rect=dino.get_rect()\n",
    "\n",
    "def quit_game():\n",
    "    global run\n",
    "    for event in pygame.event.get():\n",
    "        if event.type==pygame.QUIT:\n",
    "            run=False\n",
    "            \n",
    "run=True\n",
    "while run:\n",
    "    quit_game()\n",
    "    screen.fill((255,255,255))\n",
    "    \n",
    "    screen.blit(dino,rect)\n",
    "    pygame.draw.rect(screen,(0,0,0),obstacle,4)\n",
    "    \n",
    "    userinput=pygame.key.get_pressed()\n",
    "    if userinput[pygame.K_LEFT]:\n",
    "        rect.x-=vel\n",
    "    if userinput[pygame.K_RIGHT]:\n",
    "        rect.x+=vel\n",
    "    if userinput[pygame.K_UP]:\n",
    "        rect.y-=vel\n",
    "    if userinput[pygame.K_DOWN]:\n",
    "        rect.y+=vel\n",
    "        \n",
    "    if rect.colliderect(obstacle):\n",
    "        pygame.draw.rect(screen,(255,0,0),rect,4)\n",
    "    \n",
    "    \n",
    "    pygame.time.delay(30)\n",
    "    pygame.display.update()\n",
    "    \n",
    "pygame.quit()\n"
   ]
  },
  {
   "cell_type": "code",
   "execution_count": null,
   "id": "3e85cca5",
   "metadata": {},
   "outputs": [],
   "source": []
  }
 ],
 "metadata": {
  "kernelspec": {
   "display_name": "Python 3 (ipykernel)",
   "language": "python",
   "name": "python3"
  },
  "language_info": {
   "codemirror_mode": {
    "name": "ipython",
    "version": 3
   },
   "file_extension": ".py",
   "mimetype": "text/x-python",
   "name": "python",
   "nbconvert_exporter": "python",
   "pygments_lexer": "ipython3",
   "version": "3.10.9"
  }
 },
 "nbformat": 4,
 "nbformat_minor": 5
}
